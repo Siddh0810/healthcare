{
 "cells": [
  {
   "cell_type": "code",
   "execution_count": null,
   "id": "2c8c0391",
   "metadata": {},
   "outputs": [],
   "source": [
    "pip install apiai\n"
   ]
  },
  {
   "cell_type": "code",
   "execution_count": null,
   "id": "5c873e3b",
   "metadata": {},
   "outputs": [],
   "source": [
    "pip install virtualenv"
   ]
  },
  {
   "cell_type": "code",
   "execution_count": null,
   "id": "290d53bc",
   "metadata": {},
   "outputs": [],
   "source": [
    "pip install SpeechRecognition"
   ]
  },
  {
   "cell_type": "code",
   "execution_count": null,
   "id": "5ff1dca1",
   "metadata": {},
   "outputs": [],
   "source": [
    "pip install watson-developer-cloud"
   ]
  },
  {
   "cell_type": "code",
   "execution_count": null,
   "id": "f0edc442",
   "metadata": {},
   "outputs": [],
   "source": [
    "pip install pyttsx3"
   ]
  },
  {
   "cell_type": "code",
   "execution_count": null,
   "id": "dc695717",
   "metadata": {},
   "outputs": [],
   "source": [
    "pip install PyAudio"
   ]
  },
  {
   "cell_type": "code",
   "execution_count": 11,
   "id": "4cb1c958",
   "metadata": {},
   "outputs": [],
   "source": [
    "import speech_recognition as sr\n",
    "import pyttsx3\n",
    "# import PyAudio"
   ]
  },
  {
   "cell_type": "code",
   "execution_count": 12,
   "id": "2bed9f3b",
   "metadata": {},
   "outputs": [],
   "source": [
    "r = sr.Recognizer()\n",
    "def SpeakText(command):\n",
    "    engine = pyttsx3.init()\n",
    "    engine.say(command)\n",
    "    engine.runAndWait()"
   ]
  },
  {
   "cell_type": "code",
   "execution_count": 13,
   "id": "aa28c254",
   "metadata": {},
   "outputs": [
    {
     "name": "stdout",
     "output_type": "stream",
     "text": [
      "Please say the name of the medicine you want to prescribe\n",
      "did you say paracetamol combs\n"
     ]
    }
   ],
   "source": [
    "with sr.Microphone() as source2:\n",
    "    r.adjust_for_ambient_noise(source2,duration=0.2)\n",
    "    print('Please say the name of the medicine you want to prescribe')\n",
    "    audio2 = r.listen(source2)\n",
    "    MyText = r.recognize_google(audio2)\n",
    "    MyText = MyText.lower()\n",
    "    file_name=\"medicine.txt\"\n",
    "    try:\n",
    "        with open(file_name,\"a\") as f:\n",
    "            f.write(MyText)\n",
    "    except IOError:\n",
    "        print(\"Error!!\")\n",
    "    print(\"did you say \"+MyText)\n",
    "    SpeakText(MyText)"
   ]
  },
  {
   "cell_type": "code",
   "execution_count": 17,
   "id": "5f04a553",
   "metadata": {},
   "outputs": [],
   "source": [
    "file_name=\"medicine.txt\"\n",
    "try:\n",
    "    with open(file_name,\"w\") as f:\n",
    "        f.write(MyText)\n",
    "except IOError:\n",
    "    print(\"Error!!\")"
   ]
  },
  {
   "cell_type": "code",
   "execution_count": 18,
   "id": "22d63e25",
   "metadata": {},
   "outputs": [
    {
     "name": "stdout",
     "output_type": "stream",
     "text": [
      "Collecting wavio\n",
      "  Downloading wavio-0.0.7-py2.py3-none-any.whl (8.7 kB)\n",
      "Requirement already satisfied: numpy>=1.19.0 in c:\\users\\91997\\anaconda3\\lib\\site-packages (from wavio) (1.23.5)\n",
      "Installing collected packages: wavio\n",
      "Successfully installed wavio-0.0.7\n",
      "Note: you may need to restart the kernel to use updated packages.\n"
     ]
    }
   ],
   "source": [
    "pip install wavio"
   ]
  },
  {
   "cell_type": "code",
   "execution_count": 19,
   "id": "1ac01916",
   "metadata": {},
   "outputs": [
    {
     "name": "stdout",
     "output_type": "stream",
     "text": [
      "Requirement already satisfied: scipy in c:\\users\\91997\\anaconda3\\lib\\site-packages (1.10.0)Note: you may need to restart the kernel to use updated packages.\n",
      "\n",
      "Requirement already satisfied: numpy<1.27.0,>=1.19.5 in c:\\users\\91997\\anaconda3\\lib\\site-packages (from scipy) (1.23.5)\n"
     ]
    }
   ],
   "source": [
    "pip install scipy"
   ]
  },
  {
   "cell_type": "code",
   "execution_count": 2,
   "id": "48fb3276",
   "metadata": {},
   "outputs": [
    {
     "name": "stdout",
     "output_type": "stream",
     "text": [
      "Collecting sounddevice\n",
      "  Downloading sounddevice-0.4.6-py3-none-win_amd64.whl (199 kB)\n",
      "     ------------------------------------ 199.7/199.7 kB 146.1 kB/s eta 0:00:00\n",
      "Requirement already satisfied: CFFI>=1.0 in c:\\users\\91997\\anaconda3\\lib\\site-packages (from sounddevice) (1.15.1)\n",
      "Requirement already satisfied: pycparser in c:\\users\\91997\\anaconda3\\lib\\site-packages (from CFFI>=1.0->sounddevice) (2.21)\n",
      "Installing collected packages: sounddevice\n",
      "Successfully installed sounddevice-0.4.6\n",
      "Note: you may need to restart the kernel to use updated packages.\n"
     ]
    }
   ],
   "source": [
    "pip install sounddevice"
   ]
  },
  {
   "cell_type": "code",
   "execution_count": 1,
   "id": "7f8da2d4",
   "metadata": {},
   "outputs": [],
   "source": [
    "import sounddevice as sd\n",
    "from scipy.io.wavfile import write\n",
    "import wavio as wv"
   ]
  },
  {
   "cell_type": "code",
   "execution_count": 2,
   "id": "6d46b4fd",
   "metadata": {},
   "outputs": [],
   "source": [
    "# Sampling frequency\n",
    "freq = 44100\n",
    "\n",
    "# Recording duration\n",
    "duration = 5"
   ]
  },
  {
   "cell_type": "code",
   "execution_count": 3,
   "id": "5312aabe",
   "metadata": {},
   "outputs": [],
   "source": [
    "# Start recorder with the given values of \n",
    "# duration and sample frequency\n",
    "recording = sd.rec(int(duration * freq), \n",
    "                   samplerate=freq, channels=2)\n",
    "\n",
    "# Record audio for the given number of seconds\n",
    "sd.wait()"
   ]
  },
  {
   "cell_type": "code",
   "execution_count": 4,
   "id": "c92ec6ca",
   "metadata": {},
   "outputs": [],
   "source": [
    "# This will convert the NumPy array to an audio\n",
    "# file with the given sampling frequency\n",
    "write(\"recording0.wav\", freq, recording)"
   ]
  },
  {
   "cell_type": "code",
   "execution_count": 6,
   "id": "d10bc75a",
   "metadata": {},
   "outputs": [],
   "source": [
    "# Convert the NumPy array to audio file\n",
    "wv.write(\"recording1.wav\", recording, freq, sampwidth=2)"
   ]
  },
  {
   "cell_type": "code",
   "execution_count": 8,
   "id": "3241beb0",
   "metadata": {},
   "outputs": [],
   "source": [
    "# import required libraries\n",
    "import sounddevice as sd\n",
    "from scipy.io.wavfile import write\n",
    "import wavio as wv\n",
    " \n",
    "# Sampling frequency\n",
    "freq = 44100\n",
    " \n",
    "# Recording duration\n",
    "duration = 5\n",
    " \n",
    "# Start recorder with the given values\n",
    "# of duration and sample frequency\n",
    "recording = sd.rec(int(duration * freq),\n",
    "                   samplerate=freq, channels=2)\n",
    " \n",
    "# Record audio for the given number of seconds\n",
    "sd.wait()\n",
    " \n",
    "# This will convert the NumPy array to an audio\n",
    "# file with the given sampling frequency\n",
    "write(\"recording0.wav\", freq, recording)\n",
    " \n",
    "# Convert the NumPy array to audio file\n",
    "wv.write(\"recording1.wav\", recording, freq, sampwidth=2)"
   ]
  },
  {
   "cell_type": "code",
   "execution_count": null,
   "id": "2e5fbb15",
   "metadata": {},
   "outputs": [],
   "source": [
    "# Python program to translate\n",
    "# speech to text and text to speech\n",
    " \n",
    " \n",
    "import speech_recognition as sr\n",
    "import pyttsx3\n",
    " \n",
    "# Initialize the recognizer\n",
    "r = sr.Recognizer()\n",
    " \n",
    "# Function to convert text to\n",
    "# speech\n",
    "def SpeakText(command):\n",
    "     \n",
    "    # Initialize the engine\n",
    "    engine = pyttsx3.init()\n",
    "    engine.say(command)\n",
    "    engine.runAndWait()\n",
    "     \n",
    "     \n",
    "# Loop infinitely for user to\n",
    "# speak\n",
    " \n",
    "while(1):   \n",
    "     \n",
    "    # Exception handling to handle\n",
    "    # exceptions at the runtime\n",
    "    try:\n",
    "         \n",
    "        # use the microphone as source for input.\n",
    "        with sr.Microphone() as source2:\n",
    "             \n",
    "            # wait for a second to let the recognizer\n",
    "            # adjust the energy threshold based on\n",
    "            # the surrounding noise level\n",
    "            r.adjust_for_ambient_noise(source2, duration=0.2)\n",
    "             \n",
    "            #listens for the user's input\n",
    "            audio2 = r.listen(source2)\n",
    "             \n",
    "            # Using google to recognize audio\n",
    "            MyText = r.recognize_google(audio2)\n",
    "            MyText = MyText.lower()\n",
    " \n",
    "            print(\"Did you say \",MyText)\n",
    "            SpeakText(MyText)\n",
    "             \n",
    "    except sr.RequestError as e:\n",
    "        print(\"Could not request results; {0}\".format(e))\n",
    "         \n",
    "    except sr.UnknownValueError:\n",
    "        print(\"unknown error occurred\")"
   ]
  },
  {
   "cell_type": "code",
   "execution_count": null,
   "id": "ee4d0a3a",
   "metadata": {},
   "outputs": [],
   "source": []
  }
 ],
 "metadata": {
  "kernelspec": {
   "display_name": "Python 3 (ipykernel)",
   "language": "python",
   "name": "python3"
  },
  "language_info": {
   "codemirror_mode": {
    "name": "ipython",
    "version": 3
   },
   "file_extension": ".py",
   "mimetype": "text/x-python",
   "name": "python",
   "nbconvert_exporter": "python",
   "pygments_lexer": "ipython3",
   "version": "3.10.9"
  }
 },
 "nbformat": 4,
 "nbformat_minor": 5
}
